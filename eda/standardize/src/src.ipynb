{
 "cells": [
  {
   "cell_type": "code",
   "execution_count": 4,
   "metadata": {},
   "outputs": [
    {
     "name": "stdout",
     "output_type": "stream",
     "text": [
      "Processed az-2023-index-enhanced.csv and saved to az-2023-index-enhanced_processed.csv\n"
     ]
    },
    {
     "name": "stderr",
     "output_type": "stream",
     "text": [
      "/var/folders/4r/jhc99db14v58mjmncgtry0kc0000gn/T/ipykernel_11356/4119726715.py:29: DtypeWarning: Columns (0,4,6) have mixed types. Specify dtype option on import or set low_memory=False.\n",
      "  df = pd.read_csv(file_path)\n"
     ]
    },
    {
     "name": "stdout",
     "output_type": "stream",
     "text": [
      "Processed ca-2023-2024-index.csv and saved to ca-2023-2024-index_processed.csv\n"
     ]
    },
    {
     "name": "stderr",
     "output_type": "stream",
     "text": [
      "/var/folders/4r/jhc99db14v58mjmncgtry0kc0000gn/T/ipykernel_11356/4119726715.py:29: DtypeWarning: Columns (5) have mixed types. Specify dtype option on import or set low_memory=False.\n",
      "  df = pd.read_csv(file_path)\n"
     ]
    },
    {
     "name": "stdout",
     "output_type": "stream",
     "text": [
      "Processed fl-2023-index-enhanced.csv and saved to fl-2023-index-enhanced_processed.csv\n",
      "Processed ga-2024-enhanced-work-history.csv and saved to ga-2024-enhanced-work-history_processed.csv\n",
      "Processed il-2023-index-enhanced.csv and saved to il-2023-index-enhanced_processed.csv\n",
      "Processed md-2023-index-enhanced.csv and saved to md-2023-index-enhanced_processed.csv\n",
      "Processed oh-2023-index.csv and saved to oh-2023-index_processed.csv\n",
      "Processed or-2023-index.csv and saved to or-2023-index_processed.csv\n",
      "Processed sc-2023-index-enhanced.csv and saved to sc-2023-index-enhanced_processed.csv\n",
      "Processed tn-2024-enhanced-work-history.csv and saved to tn-2024-enhanced-work-history_processed.csv\n",
      "Processed tx-2023-index-enhanced.csv and saved to tx-2023-index-enhanced_processed.csv\n",
      "Processed vt-2023-index.csv and saved to vt-2023-index_processed.csv\n",
      "Processed wa-2023-enhanced-work-history.csv and saved to wa-2023-enhanced-work-history_processed.csv\n",
      "Individual file processing complete.\n",
      "Concatenating processed files...\n"
     ]
    },
    {
     "name": "stderr",
     "output_type": "stream",
     "text": [
      "/var/folders/4r/jhc99db14v58mjmncgtry0kc0000gn/T/ipykernel_11356/4119726715.py:61: DtypeWarning: Columns (0,4,6) have mixed types. Specify dtype option on import or set low_memory=False.\n",
      "  combined_df = pd.concat([pd.read_csv(f) for f in processed_files], ignore_index=True)\n",
      "/var/folders/4r/jhc99db14v58mjmncgtry0kc0000gn/T/ipykernel_11356/4119726715.py:61: DtypeWarning: Columns (5) have mixed types. Specify dtype option on import or set low_memory=False.\n",
      "  combined_df = pd.concat([pd.read_csv(f) for f in processed_files], ignore_index=True)\n"
     ]
    },
    {
     "name": "stdout",
     "output_type": "stream",
     "text": [
      "Combined data saved to ../data/us-post-data.csv\n",
      "Processing and concatenation complete.\n"
     ]
    }
   ],
   "source": [
    "import pandas as pd\n",
    "import os\n",
    "import glob\n",
    "\n",
    "path = \"../data/\"\n",
    "\n",
    "# Dictionary of state abbreviations and full names\n",
    "state_dict = {\n",
    "    'az': 'Arizona', 'ca': 'California', 'fl': 'Florida', 'ga': 'Georgia',\n",
    "    'il': 'Illinois', 'md': 'Maryland', 'oh': 'Ohio', 'or': 'Oregon',\n",
    "    'sc': 'South Carolina', 'tn': 'Tennessee', 'tx': 'Texas', 'vt': 'Virginia',\n",
    "    'wa': 'Washington'\n",
    "}\n",
    "\n",
    "def title_case(x):\n",
    "    if pd.isna(x):\n",
    "        return x\n",
    "    return ' '.join(word.capitalize() for word in str(x).split())\n",
    "\n",
    "processed_files = []\n",
    "\n",
    "for state_abbr, state_name in state_dict.items():\n",
    "    file_pattern = os.path.join(path, f\"{state_abbr}-*.csv\")\n",
    "    matching_files = glob.glob(file_pattern)\n",
    "    \n",
    "    for file_path in matching_files:\n",
    "        df = pd.read_csv(file_path)\n",
    "        \n",
    "        for col in ['first_name', 'last_name', 'agcy_name']:\n",
    "            if col in df.columns:\n",
    "                df[col] = df[col].apply(title_case)\n",
    "\n",
    "        df['state'] = state_name\n",
    "        \n",
    "        if 'separation_reason' not in df.columns:\n",
    "            df['separation_reason'] = 'N/A'\n",
    "        else:\n",
    "            df['separation_reason'] = df['separation_reason'].apply(title_case)\n",
    "        \n",
    "        base_name = os.path.basename(file_path)\n",
    "        output_filename = f\"{os.path.splitext(base_name)[0]}_processed.csv\"\n",
    "        output_path = os.path.join(path, output_filename)\n",
    "\n",
    "        df.to_csv(output_path, index=False)\n",
    "        print(f\"Processed {base_name} and saved to {output_filename}\")\n",
    "        \n",
    "        processed_files.append(output_path)\n",
    "\n",
    "print(\"Individual file processing complete.\")\n",
    "\n",
    "print(\"Concatenating processed files...\")\n",
    "combined_df = pd.concat([pd.read_csv(f) for f in processed_files], ignore_index=True)\n",
    "\n",
    "combined_output_path = os.path.join(path, \"us-post-data.csv\")\n",
    "combined_df.to_csv(combined_output_path, index=False)\n",
    "print(f\"Combined data saved to {combined_output_path}\")\n",
    "\n",
    "print(\"Processing and concatenation complete.\")"
   ]
  },
  {
   "cell_type": "code",
   "execution_count": null,
   "metadata": {},
   "outputs": [],
   "source": []
  }
 ],
 "metadata": {
  "kernelspec": {
   "display_name": "Python 3",
   "language": "python",
   "name": "python3"
  },
  "language_info": {
   "codemirror_mode": {
    "name": "ipython",
    "version": 3
   },
   "file_extension": ".py",
   "mimetype": "text/x-python",
   "name": "python",
   "nbconvert_exporter": "python",
   "pygments_lexer": "ipython3",
   "version": "3.12.3"
  }
 },
 "nbformat": 4,
 "nbformat_minor": 2
}
