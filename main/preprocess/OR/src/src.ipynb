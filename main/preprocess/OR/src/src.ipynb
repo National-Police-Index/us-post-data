{
 "cells": [
  {
   "cell_type": "code",
   "execution_count": 3,
   "metadata": {},
   "outputs": [],
   "source": [
    "import pandas as pd"
   ]
  },
  {
   "cell_type": "code",
   "execution_count": 4,
   "metadata": {},
   "outputs": [
    {
     "name": "stderr",
     "output_type": "stream",
     "text": [
      "/var/folders/4r/jhc99db14v58mjmncgtry0kc0000gn/T/ipykernel_8142/1475273717.py:6: DtypeWarning: Columns (20,21,28,29,33) have mixed types. Specify dtype option on import or set low_memory=False.\n",
      "  dfa = pd.read_csv(\"../../../download/data/Oregon/or-2023-original-employment.csv\")\n",
      "/var/folders/4r/jhc99db14v58mjmncgtry0kc0000gn/T/ipykernel_8142/1475273717.py:2: FutureWarning: Setting an item of incompatible dtype is deprecated and will raise in a future error of pandas. Value '['56' '56' '56' ... '63312' '63313' '63314']' has dtype incompatible with int64, please explicitly cast to a compatible dtype first.\n",
      "  df.loc[:, \"emp_id\"] = df.emp_id.astype(str).str.lower().str.strip().str.replace(r\"\\s+\", \"\", regex=True)\n",
      "/var/folders/4r/jhc99db14v58mjmncgtry0kc0000gn/T/ipykernel_8142/1475273717.py:2: FutureWarning: Setting an item of incompatible dtype is deprecated and will raise in a future error of pandas. Value '['56' '141' '174' ... '63312' '63313' '63314']' has dtype incompatible with int64, please explicitly cast to a compatible dtype first.\n",
      "  df.loc[:, \"emp_id\"] = df.emp_id.astype(str).str.lower().str.strip().str.replace(r\"\\s+\", \"\", regex=True)\n",
      "/var/folders/4r/jhc99db14v58mjmncgtry0kc0000gn/T/ipykernel_8142/1475273717.py:2: FutureWarning: Setting an item of incompatible dtype is deprecated and will raise in a future error of pandas. Value '['57' '57' '142' ... '64534' '64535' '64536']' has dtype incompatible with int64, please explicitly cast to a compatible dtype first.\n",
      "  df.loc[:, \"emp_id\"] = df.emp_id.astype(str).str.lower().str.strip().str.replace(r\"\\s+\", \"\", regex=True)\n"
     ]
    },
    {
     "data": {
      "text/plain": [
       "person_nbr               0\n",
       "sex                      0\n",
       "ethnicity             2742\n",
       "separation_reason        0\n",
       "full_name                0\n",
       "last_name                0\n",
       "first_name               0\n",
       "middle_name           1702\n",
       "agency_name             23\n",
       "rank                   194\n",
       "start_date             814\n",
       "end_date             32390\n",
       "dtype: int64"
      ]
     },
     "execution_count": 4,
     "metadata": {},
     "output_type": "execute_result"
    }
   ],
   "source": [
    "def clean_emp_id(df):\n",
    "    df.loc[:, \"emp_id\"] = df.emp_id.astype(str).str.lower().str.strip().str.replace(r\"\\s+\", \"\", regex=True)\n",
    "    return df \n",
    "\n",
    "def read_tbl():\n",
    "    dfa = pd.read_csv(\"../../../download/data/Oregon/or-2023-original-employment.csv\")\n",
    "    dfb = pd.read_csv(\"../../../download/data/Oregon/or-2023-original-employees.csv\")\n",
    "\n",
    "    dfb = dfb[[\"emp_id\", 'sex', 'ethnic', 'ethnic_description']]\n",
    "\n",
    "    dfa = dfa[[\"emp_id\", \"action_description\"]]\n",
    "\n",
    "    dfa = dfa.pipe(clean_emp_id)\n",
    "    dfb = dfb.pipe(clean_emp_id)\n",
    "\n",
    "    dfc = pd.read_csv(\"../../../download/data/Oregon/Oregon_index.csv\")\n",
    "\n",
    "    dfc = dfc.rename(columns={\"person_nbr\": \"emp_id\"})\n",
    "\n",
    "    dfc = dfc.pipe(clean_emp_id)\n",
    "\n",
    "\n",
    "\n",
    "    df = pd.merge(dfa, dfc, on=\"emp_id\")\n",
    "    df = pd.merge(dfb, df, on=\"emp_id\")\n",
    "    df = df.rename(columns={\"action_description\": \"separation_reason\", \"emp_id\": \"person_nbr\"})\n",
    "\n",
    "    df = df.drop(columns=[\"age\", \"type\", \"birth_year\", \"suffix\", \"middle_name\", \"ethnic\"]) \n",
    "    df = df.rename(columns={\"middle_initial\": \"middle_name\", \"ethnic_description\": \"ethnicity\"})\n",
    "    return df\n",
    "\n",
    "\n",
    "df = read_tbl()\n",
    "\n",
    "df.isna().sum()"
   ]
  },
  {
   "cell_type": "code",
   "execution_count": 5,
   "metadata": {},
   "outputs": [],
   "source": [
    "df.to_csv(\"../data/output/Oregon_index.csv\", index=False)"
   ]
  }
 ],
 "metadata": {
  "kernelspec": {
   "display_name": "Python 3",
   "language": "python",
   "name": "python3"
  },
  "language_info": {
   "codemirror_mode": {
    "name": "ipython",
    "version": 3
   },
   "file_extension": ".py",
   "mimetype": "text/x-python",
   "name": "python",
   "nbconvert_exporter": "python",
   "pygments_lexer": "ipython3",
   "version": "3.12.3"
  }
 },
 "nbformat": 4,
 "nbformat_minor": 2
}
