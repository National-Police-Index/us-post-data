{
 "cells": [
  {
   "cell_type": "code",
   "execution_count": 14,
   "metadata": {},
   "outputs": [],
   "source": [
    "import pandas as pd"
   ]
  },
  {
   "cell_type": "code",
   "execution_count": 15,
   "metadata": {},
   "outputs": [],
   "source": [
    "def read_tbl():\n",
    "    df = pd.read_csv(\"../../../download/data/Washington/Washington_index.csv\")\n",
    "\n",
    "    df = df.rename(columns={\"agcy_name\": \"agency_name\", \"change_reason\": \"separation_reason\"})\n",
    "\n",
    "    df = df.drop(columns=[\"middle_initial\", \"age\"])\n",
    "    return df\n",
    "\n",
    "\n",
    "df = read_tbl()\n",
    "\n",
    "df.to_csv(\"../data/output/washington_index.csv\", index=False)"
   ]
  },
  {
   "cell_type": "code",
   "execution_count": 16,
   "metadata": {},
   "outputs": [
    {
     "data": {
      "text/plain": [
       "person_nbr               0\n",
       "full_name                0\n",
       "last_name                0\n",
       "first_name               0\n",
       "middle_name           1238\n",
       "suffix               24648\n",
       "birth_year            1473\n",
       "agency_name              0\n",
       "type                  1234\n",
       "rank                     0\n",
       "start_date               0\n",
       "end_date             14014\n",
       "status                   0\n",
       "separation_reason        0\n",
       "dtype: int64"
      ]
     },
     "execution_count": 16,
     "metadata": {},
     "output_type": "execute_result"
    }
   ],
   "source": [
    "df.isna().sum()"
   ]
  }
 ],
 "metadata": {
  "kernelspec": {
   "display_name": "Python 3",
   "language": "python",
   "name": "python3"
  },
  "language_info": {
   "codemirror_mode": {
    "name": "ipython",
    "version": 3
   },
   "file_extension": ".py",
   "mimetype": "text/x-python",
   "name": "python",
   "nbconvert_exporter": "python",
   "pygments_lexer": "ipython3",
   "version": "3.12.3"
  }
 },
 "nbformat": 4,
 "nbformat_minor": 2
}
