{
 "cells": [
  {
   "cell_type": "code",
   "execution_count": 4,
   "metadata": {},
   "outputs": [],
   "source": [
    "import pandas as pd"
   ]
  },
  {
   "cell_type": "code",
   "execution_count": 5,
   "metadata": {},
   "outputs": [],
   "source": [
    "def read_tbl():\n",
    "    df = pd.read_csv(\"../../../download/data/Wyoming/wy-2023-index-enhanced.csv\")\n",
    "\n",
    "    df = df.drop(columns=[\"middle_name\", \"suffix\", \"year_of_birth\", \"age\", \"agency_city\", \"agency_state\"])\n",
    "    return df \n",
    "\n",
    "\n",
    "df = read_tbl()\n",
    "\n",
    "df.to_csv(\"../data/output/wyoming_index.csv\", index=False)"
   ]
  }
 ],
 "metadata": {
  "kernelspec": {
   "display_name": "Python 3",
   "language": "python",
   "name": "python3"
  },
  "language_info": {
   "codemirror_mode": {
    "name": "ipython",
    "version": 3
   },
   "file_extension": ".py",
   "mimetype": "text/x-python",
   "name": "python",
   "nbconvert_exporter": "python",
   "pygments_lexer": "ipython3",
   "version": "3.12.3"
  }
 },
 "nbformat": 4,
 "nbformat_minor": 2
}
