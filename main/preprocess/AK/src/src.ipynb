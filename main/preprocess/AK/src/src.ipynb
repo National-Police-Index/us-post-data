{
 "cells": [
  {
   "cell_type": "code",
   "execution_count": 7,
   "metadata": {},
   "outputs": [],
   "source": [
    "import pandas as pd"
   ]
  },
  {
   "cell_type": "code",
   "execution_count": 8,
   "metadata": {},
   "outputs": [
    {
     "data": {
      "text/plain": [
       "array([nan])"
      ]
     },
     "execution_count": 8,
     "metadata": {},
     "output_type": "execute_result"
    }
   ],
   "source": [
    "def clean_emp_id(df):\n",
    "    df.loc[:, \"emp_id\"] = df.emp_id.astype(str).str.lower().str.strip().str.replace(r\"\\s+\", \"\", regex=True)\n",
    "    return df \n",
    "\n",
    "def read_tbl():\n",
    "    df = pd.read_csv(\"../../../download/data/Alaska/Alaska_index.csv\")\n",
    "    return df \n",
    "\n",
    "df = read_tbl()\n",
    "\n",
    "df.end_date.unique()"
   ]
  }
 ],
 "metadata": {
  "kernelspec": {
   "display_name": "Python 3",
   "language": "python",
   "name": "python3"
  },
  "language_info": {
   "codemirror_mode": {
    "name": "ipython",
    "version": 3
   },
   "file_extension": ".py",
   "mimetype": "text/x-python",
   "name": "python",
   "nbconvert_exporter": "python",
   "pygments_lexer": "ipython3",
   "version": "3.12.3"
  }
 },
 "nbformat": 4,
 "nbformat_minor": 2
}
