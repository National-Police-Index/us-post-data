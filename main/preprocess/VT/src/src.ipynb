{
 "cells": [
  {
   "cell_type": "code",
   "execution_count": 151,
   "metadata": {},
   "outputs": [],
   "source": [
    "import pandas as pd\n",
    "\n"
   ]
  },
  {
   "cell_type": "code",
   "execution_count": 152,
   "metadata": {},
   "outputs": [
    {
     "name": "stderr",
     "output_type": "stream",
     "text": [
      "/var/folders/4r/jhc99db14v58mjmncgtry0kc0000gn/T/ipykernel_8222/2003840257.py:2: FutureWarning: Setting an item of incompatible dtype is deprecated and will raise in a future error of pandas. Value '['2' '2' '2' ... '31848' '31861' '31885']' has dtype incompatible with int64, please explicitly cast to a compatible dtype first.\n",
      "  df.loc[:, \"person_nbr\"] = df.person_nbr.astype(str).str.lower().str.strip().str.replace(r\"\\s+\", \"\", regex=True)\n",
      "/var/folders/4r/jhc99db14v58mjmncgtry0kc0000gn/T/ipykernel_8222/2003840257.py:2: FutureWarning: Setting an item of incompatible dtype is deprecated and will raise in a future error of pandas. Value '['2' '5' '35' ... '31908' '31909' '31910']' has dtype incompatible with int64, please explicitly cast to a compatible dtype first.\n",
      "  df.loc[:, \"person_nbr\"] = df.person_nbr.astype(str).str.lower().str.strip().str.replace(r\"\\s+\", \"\", regex=True)\n",
      "/var/folders/4r/jhc99db14v58mjmncgtry0kc0000gn/T/ipykernel_8222/2003840257.py:2: FutureWarning: Setting an item of incompatible dtype is deprecated and will raise in a future error of pandas. Value '['2' '2' '2' ... '31883' '31885' '31886']' has dtype incompatible with int64, please explicitly cast to a compatible dtype first.\n",
      "  df.loc[:, \"person_nbr\"] = df.person_nbr.astype(str).str.lower().str.strip().str.replace(r\"\\s+\", \"\", regex=True)\n"
     ]
    }
   ],
   "source": [
    "def clean_person_nbr_id(df):\n",
    "    df.loc[:, \"person_nbr\"] = df.person_nbr.astype(str).str.lower().str.strip().str.replace(r\"\\s+\", \"\", regex=True)\n",
    "    return df \n",
    "\n",
    "\n",
    "def read_tbl():\n",
    "    dfa = pd.read_csv(\"../../../download/data/Vermont/Vermont_index.csv\")\n",
    "\n",
    "\n",
    "    dfa = dfa.pipe(clean_person_nbr_id)\n",
    "\n",
    "    dfb = pd.read_csv(\"../../../download/data/Vermont/vt-2023-original-employees.csv\")\n",
    "    dfc = pd.read_csv(\"../../../download/data/Vermont/vt-2023-original-employment.csv\")\n",
    "\n",
    "\n",
    "    dfb = dfb.rename(columns={\"emp_rec_no\": \"person_nbr\"})\n",
    "    dfc = dfc.rename(columns={\"emp_rec_no\": \"person_nbr\"})\n",
    "\n",
    "    dfb = dfb.pipe(clean_person_nbr_id)\n",
    "    dfc = dfc.pipe(clean_person_nbr_id)\n",
    "\n",
    "    dfb = dfb[[\"person_nbr\", \"sex\", \"emp_id\"]]\n",
    "\n",
    "    dfc = dfc[[\"person_nbr\", \"action_description\"]]\n",
    "\n",
    "\n",
    "\n",
    "    df = pd.merge(dfa, dfb, on=\"person_nbr\")\n",
    "    df = pd.merge(df, dfc, on=\"person_nbr\")\n",
    "    df = df.drop(columns=[\"person_nbr\", \"middle_name\", \"age\"])\n",
    "    df = df.rename(columns={\"action_description\": \"separation_reason\", \"emp_id\": \"person_nbr\", \"middle_initial\": \"middle_name\"})\n",
    "    return df\n",
    "\n",
    "\n",
    "df  = read_tbl()\n",
    "\n",
    "df = df.fillna(\"\")\n",
    "\n",
    "df.to_csv(\"../data/output/Vermont_index.csv\", index=False)"
   ]
  },
  {
   "cell_type": "code",
   "execution_count": 153,
   "metadata": {},
   "outputs": [
    {
     "data": {
      "text/plain": [
       "array(['', 'JR', 'III', 'II', 'SR', 'IV'], dtype=object)"
      ]
     },
     "execution_count": 153,
     "metadata": {},
     "output_type": "execute_result"
    }
   ],
   "source": [
    "df.suffix.unique()"
   ]
  }
 ],
 "metadata": {
  "kernelspec": {
   "display_name": "Python 3",
   "language": "python",
   "name": "python3"
  },
  "language_info": {
   "codemirror_mode": {
    "name": "ipython",
    "version": 3
   },
   "file_extension": ".py",
   "mimetype": "text/x-python",
   "name": "python",
   "nbconvert_exporter": "python",
   "pygments_lexer": "ipython3",
   "version": "3.12.3"
  }
 },
 "nbformat": 4,
 "nbformat_minor": 2
}
