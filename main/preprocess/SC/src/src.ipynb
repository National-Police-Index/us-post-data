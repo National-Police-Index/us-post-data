{
 "cells": [
  {
   "cell_type": "code",
   "execution_count": 18,
   "metadata": {},
   "outputs": [],
   "source": [
    "import pandas as pd"
   ]
  },
  {
   "cell_type": "code",
   "execution_count": 19,
   "metadata": {},
   "outputs": [],
   "source": [
    "def read_tbl():\n",
    "    df = pd.read_csv(\"../../../download/data/South Carolina/South_Carolina_index.csv\")\n",
    "\n",
    "    df = df.drop(columns=[\"suffix\", \"year_of_birth\", \"age\", \"rank\"])\n",
    "\n",
    "    df = df.rename(columns={\"agency\": \"agency_name\"})\n",
    "    return df \n",
    "\n",
    "\n",
    "df = read_tbl()\n",
    "\n",
    "df.to_csv(\"../data/output/south_carolina_index.csv\", index=False)"
   ]
  },
  {
   "cell_type": "code",
   "execution_count": 20,
   "metadata": {},
   "outputs": [
    {
     "data": {
      "text/plain": [
       "person_nbr                             0\n",
       "full_name                              0\n",
       "first_name                             0\n",
       "middle_name                         7732\n",
       "last_name                              0\n",
       "agency_name                            0\n",
       "type                               47541\n",
       "start_date                            80\n",
       "end_date                           19993\n",
       "current_license_status             47541\n",
       "current_license_issued_date        47541\n",
       "current_license_expiration_date    47541\n",
       "dtype: int64"
      ]
     },
     "execution_count": 20,
     "metadata": {},
     "output_type": "execute_result"
    }
   ],
   "source": [
    "df.isna().sum()"
   ]
  }
 ],
 "metadata": {
  "kernelspec": {
   "display_name": "Python 3",
   "language": "python",
   "name": "python3"
  },
  "language_info": {
   "codemirror_mode": {
    "name": "ipython",
    "version": 3
   },
   "file_extension": ".py",
   "mimetype": "text/x-python",
   "name": "python",
   "nbconvert_exporter": "python",
   "pygments_lexer": "ipython3",
   "version": "3.12.3"
  }
 },
 "nbformat": 4,
 "nbformat_minor": 2
}
