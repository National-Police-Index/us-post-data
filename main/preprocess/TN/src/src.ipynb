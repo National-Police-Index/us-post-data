{
 "cells": [
  {
   "cell_type": "code",
   "execution_count": 13,
   "metadata": {},
   "outputs": [],
   "source": [
    "import pandas as pd"
   ]
  },
  {
   "cell_type": "code",
   "execution_count": 14,
   "metadata": {},
   "outputs": [],
   "source": [
    "def clean_middle_name(df):\n",
    "    df.loc[:, \"middle_name\"] = df.middle_name.str.replace(r\"\\.\", \"\", regex=True)\n",
    "    return df \n",
    "\n",
    "def read_tbl():\n",
    "    df = pd.read_csv(\"../../../download/data/Tennessee/Tennessee_index.csv\")\n",
    "\n",
    "    df = df.rename(columns={\"agcy_name\": \"agency_name\"})\n",
    "\n",
    "    df = df.pipe(clean_middle_name)\n",
    "\n",
    "    df = df.drop(columns=[\"suffix\"])\n",
    "\n",
    "    df = df.fillna(\"\")\n",
    "    return df \n",
    "\n",
    "df = read_tbl()\n",
    "\n",
    "df.to_csv(\"../data/output/tennessee_index.csv\", index=False)"
   ]
  }
 ],
 "metadata": {
  "kernelspec": {
   "display_name": "Python 3",
   "language": "python",
   "name": "python3"
  },
  "language_info": {
   "codemirror_mode": {
    "name": "ipython",
    "version": 3
   },
   "file_extension": ".py",
   "mimetype": "text/x-python",
   "name": "python",
   "nbconvert_exporter": "python",
   "pygments_lexer": "ipython3",
   "version": "3.12.3"
  }
 },
 "nbformat": 4,
 "nbformat_minor": 2
}
