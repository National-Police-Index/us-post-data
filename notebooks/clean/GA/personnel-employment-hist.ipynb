{
 "cells": [
  {
   "cell_type": "code",
   "execution_count": 162,
   "metadata": {},
   "outputs": [],
   "source": [
    "import pandas as pd\n",
    "import sys\n",
    "\n",
    "sys.path.append(\"../\")\n",
    "\n",
    "from lib.uid import gen_uid\n",
    "from lib.clean import clean_names, clean_races, clean_sexes"
   ]
  },
  {
   "cell_type": "code",
   "execution_count": 163,
   "metadata": {},
   "outputs": [],
   "source": [
    "def read_personnel_and_employment_hist():\n",
    "    dfa = pd.read_csv(\"../../../data/GA/2022-09-27/employment-history.csv\")\n",
    "    return dfa\n"
   ]
  },
  {
   "cell_type": "code",
   "execution_count": 164,
   "metadata": {},
   "outputs": [
    {
     "data": {
      "text/plain": [
       "Index(['Unnamed: 0', 'OKEY', ' NAME', ' AGENCY', ' RANK', ' STATUS',\n",
       "       ' START DATE', ' END DATE '],\n",
       "      dtype='object')"
      ]
     },
     "execution_count": 164,
     "metadata": {},
     "output_type": "execute_result"
    }
   ],
   "source": [
    "dfa = read_personnel_and_employment_hist()\n",
    "dfa\n",
    "\n",
    "dfa.columns"
   ]
  },
  {
   "cell_type": "code",
   "execution_count": 165,
   "metadata": {},
   "outputs": [],
   "source": [
    "\n",
    "\n",
    "dfa = dfa.rename(columns={\" NAME\": \"NAME\", \" START DATE\": \"hire_date\", \" END DATE \":\"left_date\", \"OKEY\": \"OKEY_KEY\"})\n",
    "\n",
    "def split_names(df):\n",
    "    names = df.NAME.str.lower().str.strip().str.extract(r\"(\\w+) (\\w+) ?(.+)\")\n",
    "\n",
    "    df.loc[:, \"last_name\"] = names[0]\n",
    "    df.loc[:, \"middle_name\"] = names[2]\n",
    "    df.loc[:, \"first_name\"] = names[1]\n",
    "\n",
    "    return df \n",
    "\n",
    "dfa = dfa.pipe(split_names)\n",
    "\n",
    "dfa = dfa.pipe(gen_uid, [\"first_name\", \"last_name\", \"middle_name\"])\n",
    "dfa\n",
    "\n",
    "\n",
    "\n",
    "\n",
    "dfb = pd.read_csv(\"../../../data/GA/2022-09-27/officer_data-20231220144255.csv\", encoding=\"latin1\")\n",
    "dfb = dfb.rename(columns={\" SEX\": \"sex\", \" RACE \": \"race\", \n",
    "                              \" YOB\": \"year_of_birth\", \" MIDDLE\": \"middle_name\",\n",
    "                              \" LAST NAME\": \"last_name\", \" FIRST NAME\": \"first_name\"})\n",
    "\n",
    "dfb\n",
    "    \n",
    "dfb = dfb.pipe(clean_names, [\"first_name\", \"last_name\", \"middle_name\"])\n",
    "\n",
    "    \n",
    "dfb = dfb.pipe(gen_uid, [\"first_name\", \"last_name\", \"middle_name\"])\n",
    "    \n",
    "dfb = dfb[[\"year_of_birth\", \"race\", \"sex\", \"uid\"]]\n",
    "\n",
    "df = pd.merge(dfa, dfb, on=\"uid\", how=\"left\")\n",
    "\n",
    "df[\"state\"] = \"GA\"\n",
    "\n",
    "\n",
    "df.sort_values(\"OKEY_KEY\")\n",
    "\n",
    "df.loc[:, \"left_date\"] = df.left_date.str.replace(r\"0000-00-00\", \"\", regex=True)\n",
    "\n",
    "df = df[~((df.left_date.fillna(\"\") == \"\"))]\n",
    "\n",
    "\n",
    "df = df[df.duplicated(subset=[\"OKEY_KEY\"], keep=False)]\n",
    "\n",
    "df = df.rename(columns={\" AGENCY\": \"agency\"})\n",
    "\n",
    "df = df.pipe(gen_uid, [\"first_name\", \"middle_name\", \"last_name\", \"agency\"])\n",
    "\n",
    "events_df = df[[\"uid\", \"agency\", \"state\", \"hire_date\"]]\n",
    "\n",
    "\n",
    "# Unpivot the DataFrame\n",
    "events_df = events_df.melt(id_vars=['uid', 'agency', 'state'], \n",
    "                  value_vars=['hire_date'], \n",
    "                  var_name='event_type', \n",
    "                  value_name='event_date')\n",
    "\n",
    "# Generate event_uid using gen_uid function\n",
    "events_df = events_df.pipe(gen_uid, ['uid', 'event_type', 'event_date'], \"event_uid\")\n",
    "\n",
    "events_df.sort_values(\"uid\")\n",
    "\n",
    "events_df.to_csv(\"./../../../data/GA/match/events_georgia_dropped_na_left_date.csv\", index=False)"
   ]
  },
  {
   "cell_type": "code",
   "execution_count": null,
   "metadata": {},
   "outputs": [],
   "source": [
    "dup_uids_list = [x for x in events_df[\"uid\"]]\n",
    "\n",
    "per_df = df[[\"first_name\", \"middle_name\", \"last_name\", \"agency\", \"uid\", \"year_of_birth\", \"race\", \"sex\", \"state\", \"OKEY_KEY\"]]\n",
    "\n",
    "per_df = per_df[per_df.uid.isin(dup_uids_list)]\n",
    "\n",
    "per_df.to_csv(\"./../../../data/GA/match/personnel_georgia_dropped_na_left_date.csv\", index=False)"
   ]
  }
 ],
 "metadata": {
  "kernelspec": {
   "display_name": "Python 3",
   "language": "python",
   "name": "python3"
  },
  "language_info": {
   "codemirror_mode": {
    "name": "ipython",
    "version": 3
   },
   "file_extension": ".py",
   "mimetype": "text/x-python",
   "name": "python",
   "nbconvert_exporter": "python",
   "pygments_lexer": "ipython3",
   "version": "3.11.6"
  }
 },
 "nbformat": 4,
 "nbformat_minor": 2
}
