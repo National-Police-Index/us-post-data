{
 "cells": [
  {
   "cell_type": "code",
   "execution_count": 7,
   "metadata": {},
   "outputs": [],
   "source": [
    "import pandas as pd"
   ]
  },
  {
   "cell_type": "code",
   "execution_count": 8,
   "metadata": {},
   "outputs": [],
   "source": [
    "def read():\n",
    "    df = pd.read_excel(\"../../../data/TX/2022-10-18/23-5-26 Reciprocity/tx_oos_mp_transfers_1115-52523-copy-20231220144255.xlsx\")\n",
    "    return df "
   ]
  },
  {
   "cell_type": "code",
   "execution_count": 9,
   "metadata": {},
   "outputs": [],
   "source": [
    "df = read()"
   ]
  },
  {
   "cell_type": "code",
   "execution_count": 10,
   "metadata": {},
   "outputs": [],
   "source": [
    "df = df.rename(columns={\"Branch/State\": \"location\"})\n",
    "\n",
    "df.loc[:, \"location\"] = df.location.str.lower()\n",
    "\n",
    "df = df[df.location.isin([\"louisiana\"])]\n",
    "\n",
    "df = df.rename(columns={\"First Name\": \"first_name\", \"Last Name\": \"last_name\"})"
   ]
  },
  {
   "cell_type": "code",
   "execution_count": 11,
   "metadata": {},
   "outputs": [],
   "source": [
    "def clean_names(df):\n",
    "    df.loc[:, \"first_name\"] = df.first_name.str.lower().str.strip()\n",
    "    df.loc[:, \"last_name\"] = df.last_name.str.lower().str.strip()\n",
    "    return df \n",
    "\n",
    "df = df.pipe(clean_names)"
   ]
  },
  {
   "cell_type": "code",
   "execution_count": 12,
   "metadata": {},
   "outputs": [],
   "source": [
    "df.to_csv(\"../../../data/TX/clean/tx_reciprocity-2023.csv\", index=False)"
   ]
  }
 ],
 "metadata": {
  "kernelspec": {
   "display_name": "Python 3",
   "language": "python",
   "name": "python3"
  },
  "language_info": {
   "codemirror_mode": {
    "name": "ipython",
    "version": 3
   },
   "file_extension": ".py",
   "mimetype": "text/x-python",
   "name": "python",
   "nbconvert_exporter": "python",
   "pygments_lexer": "ipython3",
   "version": "3.11.6"
  }
 },
 "nbformat": 4,
 "nbformat_minor": 2
}
