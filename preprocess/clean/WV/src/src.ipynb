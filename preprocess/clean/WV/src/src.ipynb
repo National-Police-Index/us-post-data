{
 "cells": [
  {
   "cell_type": "code",
   "execution_count": 3,
   "metadata": {},
   "outputs": [],
   "source": [
    "import pandas as pd\n",
    "import gzip"
   ]
  },
  {
   "cell_type": "code",
   "execution_count": 4,
   "metadata": {},
   "outputs": [],
   "source": [
    "def read_tbl():\n",
    "    df = pd.read_csv(\"../../../download/data/West Virginia/West_Virginia_index.csv\")\n",
    "\n",
    "    df = df.rename(columns={\"agcy_name\": \"agency_name\"})\n",
    "    return df\n",
    "\n",
    "\n",
    "df = read_tbl()\n",
    "\n",
    "df = df.sample(n=500)\n",
    "\n",
    "df\n",
    "# df.to_csv(\"../data/output/west_virginia_index.csv\", index=False)\n",
    "\n",
    "with gzip.open(\"../data/output/vermont-processed.csv.gz\", 'wt') as f:\n",
    "    df.to_csv(f, index=False)"
   ]
  }
 ],
 "metadata": {
  "kernelspec": {
   "display_name": "Python 3",
   "language": "python",
   "name": "python3"
  },
  "language_info": {
   "codemirror_mode": {
    "name": "ipython",
    "version": 3
   },
   "file_extension": ".py",
   "mimetype": "text/x-python",
   "name": "python",
   "nbconvert_exporter": "python",
   "pygments_lexer": "ipython3",
   "version": "3.12.3"
  }
 },
 "nbformat": 4,
 "nbformat_minor": 2
}
