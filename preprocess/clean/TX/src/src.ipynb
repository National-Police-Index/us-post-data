{
 "cells": [
  {
   "cell_type": "code",
   "execution_count": 1,
   "metadata": {},
   "outputs": [],
   "source": [
    "import pandas as pd\n",
    "import gzip"
   ]
  },
  {
   "cell_type": "code",
   "execution_count": 2,
   "metadata": {},
   "outputs": [],
   "source": [
    "def read_tbl():\n",
    "    df = pd.read_csv(\"../../../download/data/Texas/Texas_index.csv\")\n",
    "\n",
    "    df = df.drop(columns=[\"age\"])\n",
    "\n",
    "    df = df.rename(columns={\"agency\": \"agency_name\"})\n",
    "\n",
    "    return df \n",
    "\n",
    "\n",
    "df = read_tbl()\n",
    "\n",
    "df.columns\n",
    "\n",
    "df.to_csv(\"../data/output/texas-processed.csv\", index=False)\n",
    "\n",
    "with gzip.open(\"../data/output/texas-processed.csv.gz\", 'wt') as f:\n",
    "    df.to_csv(f, index=False)"
   ]
  },
  {
   "cell_type": "code",
   "execution_count": null,
   "metadata": {},
   "outputs": [],
   "source": []
  },
  {
   "cell_type": "code",
   "execution_count": 3,
   "metadata": {},
   "outputs": [
    {
     "data": {
      "text/plain": [
       "person_nbr               0\n",
       "full_name                0\n",
       "first_name               0\n",
       "middle_name         100034\n",
       "last_name                0\n",
       "suffix              672415\n",
       "year_of_birth            0\n",
       "agency_name              0\n",
       "type                   778\n",
       "rank                   778\n",
       "start_date             778\n",
       "end_date            109114\n",
       "county                   0\n",
       "ever_revoked             0\n",
       "ever_surrendered         0\n",
       "dtype: int64"
      ]
     },
     "execution_count": 3,
     "metadata": {},
     "output_type": "execute_result"
    }
   ],
   "source": [
    "df.isna().sum()"
   ]
  }
 ],
 "metadata": {
  "kernelspec": {
   "display_name": "Python 3",
   "language": "python",
   "name": "python3"
  },
  "language_info": {
   "codemirror_mode": {
    "name": "ipython",
    "version": 3
   },
   "file_extension": ".py",
   "mimetype": "text/x-python",
   "name": "python",
   "nbconvert_exporter": "python",
   "pygments_lexer": "ipython3",
   "version": "3.12.3"
  }
 },
 "nbformat": 4,
 "nbformat_minor": 2
}
