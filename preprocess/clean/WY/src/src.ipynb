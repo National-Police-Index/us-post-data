{
 "cells": [
  {
   "cell_type": "code",
   "execution_count": 1,
   "metadata": {},
   "outputs": [],
   "source": [
    "import pandas as pd\n",
    "import gzip"
   ]
  },
  {
   "cell_type": "code",
   "execution_count": 2,
   "metadata": {},
   "outputs": [],
   "source": [
    "def read_tbl():\n",
    "    df = pd.read_csv(\"../../../download/data/Wyoming/wy-2023-index-enhanced.csv\")\n",
    "\n",
    "    df = df.drop(columns=[\"middle_name\", \"suffix\", \"year_of_birth\", \"age\", \"agency_city\", \"agency_state\", \"type\"])\n",
    "\n",
    "    df = df.rename(columns={\"employment_status\": \"separation_reason\", \"agency_type\": \"type\", \"agency\": \"agency_name\"})\n",
    "\n",
    "\n",
    "    return df \n",
    "\n",
    "\n",
    "df = read_tbl()\n",
    "\n",
    "with gzip.open(\"../data/output/wyoming-processed.csv.gz\", 'wt') as f:\n",
    "    df.to_csv(f, index=False)"
   ]
  },
  {
   "cell_type": "code",
   "execution_count": null,
   "metadata": {},
   "outputs": [],
   "source": [
    "df.to_csv(\"../data/output/wyoming_index.csv\", index=False)"
   ]
  }
 ],
 "metadata": {
  "kernelspec": {
   "display_name": "Python 3",
   "language": "python",
   "name": "python3"
  },
  "language_info": {
   "codemirror_mode": {
    "name": "ipython",
    "version": 3
   },
   "file_extension": ".py",
   "mimetype": "text/x-python",
   "name": "python",
   "nbconvert_exporter": "python",
   "pygments_lexer": "ipython3",
   "version": "3.12.3"
  }
 },
 "nbformat": 4,
 "nbformat_minor": 2
}
