{
  "cells": [
    {
      "cell_type": "code",
      "execution_count": 1,
      "metadata": {},
      "outputs": [],
      "source": [
        "import gzip\n",
        "\n",
        "import pandas as pd"
      ]
    },
    {
      "cell_type": "code",
      "execution_count": 2,
      "metadata": {},
      "outputs": [],
      "source": [
        "def read_tbl():\n",
        "    df = pd.read_csv(\n",
        "        \"../../../download/data/Wyoming/wy-2023-index-enhanced.csv\"\n",
        "    )\n",
        "\n",
        "    df = df.drop(\n",
        "        columns=[\n",
        "            \"middle_name\",\n",
        "            \"suffix\",\n",
        "            \"year_of_birth\",\n",
        "            \"age\",\n",
        "            \"agency_city\",\n",
        "            \"agency_state\",\n",
        "            \"type\",\n",
        "        ]\n",
        "    )\n",
        "\n",
        "    df = df.rename(\n",
        "        columns={\n",
        "            \"employment_status\": \"separation_reason\",\n",
        "            \"agency_type\": \"type\",\n",
        "            \"agency\": \"agency_name\",\n",
        "        }\n",
        "    )\n",
        "\n",
        "    return df\n",
        "\n",
        "\n",
        "df = read_tbl()\n",
        "\n",
        "with gzip.open(\"../data/output/wyoming-processed.csv.gz\", \"wt\") as f:\n",
        "    df.to_csv(f, index=False)"
      ]
    },
    {
      "cell_type": "code",
      "execution_count": null,
      "metadata": {},
      "outputs": [],
      "source": [
        "df.to_csv(\"../data/output/wyoming_index.csv\", index=False)"
      ]
    }
  ],
  "metadata": {
    "kernelspec": {
      "display_name": "Python 3",
      "language": "python",
      "name": "python3"
    },
    "language_info": {
      "codemirror_mode": {
        "name": "ipython",
        "version": 3
      },
      "file_extension": ".py",
      "mimetype": "text/x-python",
      "name": "python",
      "nbconvert_exporter": "python",
      "pygments_lexer": "ipython3",
      "version": "3.12.3"
    }
  },
  "nbformat": 4,
  "nbformat_minor": 2
}
