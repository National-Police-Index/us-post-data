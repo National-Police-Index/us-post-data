{
  "cells": [
    {
      "cell_type": "code",
      "execution_count": 43,
      "metadata": {},
      "outputs": [],
      "source": [
        "import pandas as pd"
      ]
    },
    {
      "cell_type": "code",
      "execution_count": 44,
      "metadata": {},
      "outputs": [
        {
          "name": "stderr",
          "output_type": "stream",
          "text": [
            "/var/folders/4r/jhc99db14v58mjmncgtry0kc0000gn/T/ipykernel_8266/481215885.py:2: DtypeWarning: Columns (0,4,6) have mixed types. Specify dtype option on import or set low_memory=False.\n",
            "  df = pd.read_csv(\"../../../download/data/California/California_index.csv\")\n"
          ]
        }
      ],
      "source": [
        "def read_tbl():\n",
        "    df = pd.read_csv(\"../../../download/data/California/California_index.csv\")\n",
        "\n",
        "    df = df.rename(columns={\"agcy_name\": \"agency_name\"})\n",
        "\n",
        "    return df\n",
        "\n",
        "\n",
        "df = read_tbl()\n",
        "\n",
        "df.agency_name.unique()\n",
        "\n",
        "# df= df[df.agency_name.str.lower().str.strip().str.contains(r\"^uc\")]\n",
        "\n",
        "df.loc[:, \"agency_name\"] = (\n",
        "    df.agency_name.str.replace(r\"^UC \", \"UNIVERSITY OF CALIFORNIA \", regex=True)\n",
        "    .str.replace(r\" CO \", \" COUNTY \", regex=True)\n",
        "    .str.replace(r\" PD$\", \" POLICE DEPARTMENT\", regex=True)\n",
        "    .str.replace(r\" SO$\", \"SHERIFF'S OFFICE\", regex=True)\n",
        ")"
      ]
    },
    {
      "cell_type": "code",
      "execution_count": null,
      "metadata": {},
      "outputs": [],
      "source": [
        "df.agency_name.unique()\n",
        "\n",
        "df.to_csv(\"../data/output/california-processed.csv\", index=False)"
      ]
    }
  ],
  "metadata": {
    "kernelspec": {
      "display_name": "Python 3",
      "language": "python",
      "name": "python3"
    },
    "language_info": {
      "codemirror_mode": {
        "name": "ipython",
        "version": 3
      },
      "file_extension": ".py",
      "mimetype": "text/x-python",
      "name": "python",
      "nbconvert_exporter": "python",
      "pygments_lexer": "ipython3",
      "version": "3.12.6"
    }
  },
  "nbformat": 4,
  "nbformat_minor": 2
}
