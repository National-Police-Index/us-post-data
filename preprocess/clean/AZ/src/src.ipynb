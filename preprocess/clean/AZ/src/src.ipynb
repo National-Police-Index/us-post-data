{
  "cells": [
    {
      "cell_type": "code",
      "execution_count": 1,
      "metadata": {},
      "outputs": [],
      "source": [
        "import pandas as pd"
      ]
    },
    {
      "cell_type": "code",
      "execution_count": 2,
      "metadata": {},
      "outputs": [],
      "source": [
        "def read_tbl():\n",
        "    df = pd.read_csv(\"../data/input/006_PR_AllOfficers_w_AppointmentsAndFinalActions.csv\")\n",
        "\n",
        "    # df = df.drop(columns=[\"suffix\", \"year_of_birth\", \"age\", \"type\"])\n",
        "\n",
        "    df = df.rename(columns={\"Term_Desc\": \"separation_reason\", \n",
        "                            \"AppointedDate\": \"start_date\",\n",
        "                            \"TerminationDate\": \"end_date\",\n",
        "                            \"Last_Name\": \"last_name\",\n",
        "                            \"First_Name\": \"first_name\",\n",
        "                            \"Middle_Name\": \"middle_name\",\n",
        "                            \"Agency\": \"agency_name\",\n",
        "                            \"PostId\": \"person_nbr\"})\n",
        "    \n",
        "    df = df[[\"agency_name\", \"person_nbr\", \"first_name\", \"middle_name\", \"last_name\", \"start_date\", \"end_date\", \"separation_reason\"]]\n",
        "    return df\n",
        "\n",
        "\n",
        "def clean_separation_reason(df):\n",
        "    df.loc[:, \"separation_reason\"] = (df.separation_reason\n",
        "                                      .str.lower()\n",
        "                                      .str.strip()\n",
        "                                      .fillna(\"\")\n",
        "                                      .str.replace(r\"misconduct - no|active|medical|other\\/unknown\", \"\", regex=True)\n",
        "                                      .str.replace(r\"misconduct - yes\", \"misconduct\", regex=True)\n",
        "                                      .str.replace(r\"active\", \"\", regex=True)\n",
        "    )\n",
        "    return df \n",
        "\n",
        "\n",
        "def clean_agency(df):\n",
        "    df.loc[:, \"agency_name\"] = (df.agency_name\n",
        "                           .str.lower()\n",
        "                           .str.strip()\n",
        "                           .str.replace(r\"^az \", \"arizona \", regex=True)\n",
        "                           .str.replace(r\" dept \", \" department \", regex=False)\n",
        "                           .str.replace(r\"dept$\", \"department\", regex=True)\n",
        "                           .str.replace(r\"departme$\", \"department\", regex=True)\n",
        "                           .str.replace(r\" enf \", \" enforcement \", regex=False)\n",
        "                           .str.replace(r\" az \", \" arizona \", regex=False)\n",
        "                           .str.replace(r\" & \", \" and \", regex=False)\n",
        "                           .str.replace(r\"contr$\" ,\"control\", regex=True)\n",
        "                           .str.replace(r\"pd$\", \"police department\", regex=True)\n",
        "                           .str.replace(r\"departm$\", \"department\", regex=True)\n",
        "                           .str.replace(r\" cty \", \" county \", regex=False)\n",
        "                           .str.replace(r\"-(\\w+)$\", r\"- \\1\", regex=True )\n",
        "                           .str.replace(r\"(\\w+)\\,(\\w+)\", r\"\\1, \\2\", regex=True)\n",
        "                           .str.replace(r\"animal se\", \"animal services\", regex=False)\n",
        "                           .str.replace(r\"^ret\\,? \", \"\", regex=True)\n",
        "    )\n",
        "    return df \n",
        "\n",
        "df = read_tbl()\n",
        "\n",
        "df = df.pipe(clean_separation_reason).pipe(clean_agency)"
      ]
    },
    {
      "cell_type": "code",
      "execution_count": 3,
      "metadata": {},
      "outputs": [],
      "source": [
        "df.to_csv(\"../data/output/arizona_index.csv\", index=False)"
      ]
    }
  ],
  "metadata": {
    "kernelspec": {
      "display_name": "Python 3",
      "language": "python",
      "name": "python3"
    },
    "language_info": {
      "codemirror_mode": {
        "name": "ipython",
        "version": 3
      },
      "file_extension": ".py",
      "mimetype": "text/x-python",
      "name": "python",
      "nbconvert_exporter": "python",
      "pygments_lexer": "ipython3",
      "version": "3.12.9"
    }
  },
  "nbformat": 4,
  "nbformat_minor": 2
}
